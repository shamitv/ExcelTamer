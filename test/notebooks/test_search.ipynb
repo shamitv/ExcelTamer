{
 "cells": [
  {
   "cell_type": "code",
   "execution_count": null,
   "id": "ab878029-6390-489e-98e7-4f63e53326f9",
   "metadata": {},
   "outputs": [],
   "source": [
    "import sys\n",
    "import os\n"
   ]
  },
  {
   "cell_type": "code",
   "execution_count": null,
   "id": "1aff8ef6-2495-45bb-917c-f3d8390b3862",
   "metadata": {},
   "outputs": [],
   "source": [
    "print(os.getcwd())"
   ]
  },
  {
   "cell_type": "code",
   "execution_count": null,
   "id": "0553703c-72fb-494a-a687-5702fac0ccf9",
   "metadata": {},
   "outputs": [],
   "source": [
    "parent_dir = os.path.dirname(os.getcwd())\n",
    "grandparent_dir = os.path.dirname(parent_dir)\n",
    "sys.path.append(grandparent_dir)"
   ]
  },
  {
   "cell_type": "code",
   "execution_count": null,
   "id": "3c58da03-4bd0-42b6-9c22-a5e6f962160a",
   "metadata": {},
   "outputs": [],
   "source": [
    "from ExcelTamer.ExcelAutomation import ExcelAutomation"
   ]
  },
  {
   "cell_type": "code",
   "execution_count": null,
   "id": "bbc2a661-514f-46b2-ba04-e4a77ca3e6cd",
   "metadata": {},
   "outputs": [],
   "source": [
    "xls:ExcelAutomation = ExcelAutomation(None)"
   ]
  },
  {
   "cell_type": "code",
   "execution_count": null,
   "id": "bdea7e09-987c-4b04-8cc2-3aa2a83ff425",
   "metadata": {},
   "outputs": [],
   "source": [
    "sheet_name = 'movies'"
   ]
  },
  {
   "cell_type": "code",
   "execution_count": null,
   "id": "61ab4ebb-5cee-489d-9983-bc53a9dbbd6b",
   "metadata": {},
   "outputs": [],
   "source": [
    "matches = xls.find_all_cells_by_value(\"Cars\",sheet_name)"
   ]
  },
  {
   "cell_type": "code",
   "execution_count": null,
   "id": "aedca682-a9ff-47ae-9a6b-4a55ad9b6faa",
   "metadata": {},
   "outputs": [],
   "source": [
    "matches"
   ]
  },
  {
   "cell_type": "code",
   "execution_count": null,
   "id": "ae439385-4f83-4d7f-9f51-0cc90c024a37",
   "metadata": {},
   "outputs": [],
   "source": []
  }
 ],
 "metadata": {
  "kernelspec": {
   "display_name": "Python 3 (ipykernel)",
   "language": "python",
   "name": "python3"
  },
  "language_info": {
   "codemirror_mode": {
    "name": "ipython",
    "version": 3
   },
   "file_extension": ".py",
   "mimetype": "text/x-python",
   "name": "python",
   "nbconvert_exporter": "python",
   "pygments_lexer": "ipython3",
   "version": "3.12.7"
  }
 },
 "nbformat": 4,
 "nbformat_minor": 5
}
